{
 "cells": [
  {
   "cell_type": "code",
   "execution_count": 51,
   "id": "b3f6f9c0",
   "metadata": {},
   "outputs": [
    {
     "name": "stdout",
     "output_type": "stream",
     "text": [
      "Requirement already satisfied: xgboost in c:\\users\\rmwil\\anaconda3\\envs\\pyvizenv\\lib\\site-packages (1.5.2)\n",
      "Requirement already satisfied: numpy in c:\\users\\rmwil\\anaconda3\\envs\\pyvizenv\\lib\\site-packages (from xgboost) (1.20.3)\n",
      "Requirement already satisfied: scipy in c:\\users\\rmwil\\anaconda3\\envs\\pyvizenv\\lib\\site-packages (from xgboost) (1.7.1)\n"
     ]
    }
   ],
   "source": [
    "import numpy as np\n",
    "import pandas as pd\n",
    "import plotly.express as px\n",
    "import os\n",
    "import matplotlib.pyplot as plt\n",
    "import hvplot.pandas\n",
    "import seaborn as sns\n",
    "%matplotlib inline\n",
    "from pathlib import Path\n",
    "!pip install xgboost\n",
    "import xgboost as xgb"
   ]
  },
  {
   "cell_type": "code",
   "execution_count": 52,
   "id": "d94b8b84",
   "metadata": {},
   "outputs": [],
   "source": [
    "from sklearn.preprocessing import StandardScaler\n",
    "from sklearn.preprocessing import LabelEncoder\n",
    "from sklearn.linear_model import LogisticRegression\n",
    "from sklearn.model_selection import train_test_split\n",
    "from sklearn.metrics import (accuracy_score, \n",
    "                            f1_score, \n",
    "                            confusion_matrix, \n",
    "                            classification_report,\n",
    "                            confusion_matrix)\n",
    "from sklearn.svm import SVC\n",
    "\n",
    "from sklearn.neighbors import KNeighborsClassifier\n",
    "\n",
    "from sklearn.linear_model import SGDClassifier\n",
    "from sklearn.model_selection import (train_test_split, \n",
    "                                     cross_val_score,\n",
    "                                    GridSearchCV)\n",
    "\n"
   ]
  },
  {
   "cell_type": "code",
   "execution_count": 53,
   "id": "dd73f66a",
   "metadata": {},
   "outputs": [
    {
     "data": {
      "text/html": [
       "<div>\n",
       "<style scoped>\n",
       "    .dataframe tbody tr th:only-of-type {\n",
       "        vertical-align: middle;\n",
       "    }\n",
       "\n",
       "    .dataframe tbody tr th {\n",
       "        vertical-align: top;\n",
       "    }\n",
       "\n",
       "    .dataframe thead th {\n",
       "        text-align: right;\n",
       "    }\n",
       "</style>\n",
       "<table border=\"1\" class=\"dataframe\">\n",
       "  <thead>\n",
       "    <tr style=\"text-align: right;\">\n",
       "      <th></th>\n",
       "      <th>fixed acidity</th>\n",
       "      <th>volatile acidity</th>\n",
       "      <th>citric acid</th>\n",
       "      <th>residual sugar</th>\n",
       "      <th>chlorides</th>\n",
       "      <th>free sulfur dioxide</th>\n",
       "      <th>total sulfur dioxide</th>\n",
       "      <th>density</th>\n",
       "      <th>pH</th>\n",
       "      <th>sulphates</th>\n",
       "      <th>alcohol</th>\n",
       "      <th>quality</th>\n",
       "    </tr>\n",
       "    <tr>\n",
       "      <th>wine type</th>\n",
       "      <th></th>\n",
       "      <th></th>\n",
       "      <th></th>\n",
       "      <th></th>\n",
       "      <th></th>\n",
       "      <th></th>\n",
       "      <th></th>\n",
       "      <th></th>\n",
       "      <th></th>\n",
       "      <th></th>\n",
       "      <th></th>\n",
       "      <th></th>\n",
       "    </tr>\n",
       "  </thead>\n",
       "  <tbody>\n",
       "    <tr>\n",
       "      <th>red</th>\n",
       "      <td>7.4</td>\n",
       "      <td>0.70</td>\n",
       "      <td>0.00</td>\n",
       "      <td>1.9</td>\n",
       "      <td>0.076</td>\n",
       "      <td>11.0</td>\n",
       "      <td>34.0</td>\n",
       "      <td>0.9978</td>\n",
       "      <td>3.51</td>\n",
       "      <td>0.56</td>\n",
       "      <td>9.4</td>\n",
       "      <td>5</td>\n",
       "    </tr>\n",
       "    <tr>\n",
       "      <th>red</th>\n",
       "      <td>7.8</td>\n",
       "      <td>0.88</td>\n",
       "      <td>0.00</td>\n",
       "      <td>2.6</td>\n",
       "      <td>0.098</td>\n",
       "      <td>25.0</td>\n",
       "      <td>67.0</td>\n",
       "      <td>0.9968</td>\n",
       "      <td>3.20</td>\n",
       "      <td>0.68</td>\n",
       "      <td>9.8</td>\n",
       "      <td>5</td>\n",
       "    </tr>\n",
       "    <tr>\n",
       "      <th>red</th>\n",
       "      <td>7.8</td>\n",
       "      <td>0.76</td>\n",
       "      <td>0.04</td>\n",
       "      <td>2.3</td>\n",
       "      <td>0.092</td>\n",
       "      <td>15.0</td>\n",
       "      <td>54.0</td>\n",
       "      <td>0.9970</td>\n",
       "      <td>3.26</td>\n",
       "      <td>0.65</td>\n",
       "      <td>9.8</td>\n",
       "      <td>5</td>\n",
       "    </tr>\n",
       "    <tr>\n",
       "      <th>red</th>\n",
       "      <td>11.2</td>\n",
       "      <td>0.28</td>\n",
       "      <td>0.56</td>\n",
       "      <td>1.9</td>\n",
       "      <td>0.075</td>\n",
       "      <td>17.0</td>\n",
       "      <td>60.0</td>\n",
       "      <td>0.9980</td>\n",
       "      <td>3.16</td>\n",
       "      <td>0.58</td>\n",
       "      <td>9.8</td>\n",
       "      <td>6</td>\n",
       "    </tr>\n",
       "    <tr>\n",
       "      <th>red</th>\n",
       "      <td>7.4</td>\n",
       "      <td>0.70</td>\n",
       "      <td>0.00</td>\n",
       "      <td>1.9</td>\n",
       "      <td>0.076</td>\n",
       "      <td>11.0</td>\n",
       "      <td>34.0</td>\n",
       "      <td>0.9978</td>\n",
       "      <td>3.51</td>\n",
       "      <td>0.56</td>\n",
       "      <td>9.4</td>\n",
       "      <td>5</td>\n",
       "    </tr>\n",
       "  </tbody>\n",
       "</table>\n",
       "</div>"
      ],
      "text/plain": [
       "           fixed acidity  volatile acidity  citric acid  residual sugar  \\\n",
       "wine type                                                                 \n",
       "red                  7.4              0.70         0.00             1.9   \n",
       "red                  7.8              0.88         0.00             2.6   \n",
       "red                  7.8              0.76         0.04             2.3   \n",
       "red                 11.2              0.28         0.56             1.9   \n",
       "red                  7.4              0.70         0.00             1.9   \n",
       "\n",
       "           chlorides  free sulfur dioxide  total sulfur dioxide  density  \\\n",
       "wine type                                                                  \n",
       "red            0.076                 11.0                  34.0   0.9978   \n",
       "red            0.098                 25.0                  67.0   0.9968   \n",
       "red            0.092                 15.0                  54.0   0.9970   \n",
       "red            0.075                 17.0                  60.0   0.9980   \n",
       "red            0.076                 11.0                  34.0   0.9978   \n",
       "\n",
       "             pH  sulphates  alcohol  quality  \n",
       "wine type                                     \n",
       "red        3.51       0.56      9.4        5  \n",
       "red        3.20       0.68      9.8        5  \n",
       "red        3.26       0.65      9.8        5  \n",
       "red        3.16       0.58      9.8        6  \n",
       "red        3.51       0.56      9.4        5  "
      ]
     },
     "execution_count": 53,
     "metadata": {},
     "output_type": "execute_result"
    }
   ],
   "source": [
    "#Load Datasets\n",
    "red_wine = Path('Resources/winequality-red.csv')\n",
    "red_wine_df = pd.read_csv(red_wine)\n",
    "red_wine_df[\"wine type\"] = \"red\"\n",
    "red_wine_df = red_wine_df.set_index(['wine type'])\n",
    "red_wine_df.head()\n"
   ]
  },
  {
   "cell_type": "code",
   "execution_count": 54,
   "id": "7ad832b9",
   "metadata": {},
   "outputs": [
    {
     "name": "stdout",
     "output_type": "stream",
     "text": [
      "240\n"
     ]
    }
   ],
   "source": [
    "# Check for duplicates\n",
    "duplicates = red_wine_df[red_wine_df.duplicated()]\n",
    "print(len(duplicates))"
   ]
  },
  {
   "cell_type": "code",
   "execution_count": 55,
   "id": "0bdc356b",
   "metadata": {},
   "outputs": [],
   "source": [
    "# Drop all duplicates\n",
    "red_wine_df.drop_duplicates(keep='first',inplace=True)"
   ]
  },
  {
   "cell_type": "code",
   "execution_count": 56,
   "id": "d2dacbfe",
   "metadata": {},
   "outputs": [
    {
     "data": {
      "text/html": [
       "<div>\n",
       "<style scoped>\n",
       "    .dataframe tbody tr th:only-of-type {\n",
       "        vertical-align: middle;\n",
       "    }\n",
       "\n",
       "    .dataframe tbody tr th {\n",
       "        vertical-align: top;\n",
       "    }\n",
       "\n",
       "    .dataframe thead th {\n",
       "        text-align: right;\n",
       "    }\n",
       "</style>\n",
       "<table border=\"1\" class=\"dataframe\">\n",
       "  <thead>\n",
       "    <tr style=\"text-align: right;\">\n",
       "      <th></th>\n",
       "      <th>fixed acidity</th>\n",
       "      <th>volatile acidity</th>\n",
       "      <th>citric acid</th>\n",
       "      <th>residual sugar</th>\n",
       "      <th>chlorides</th>\n",
       "      <th>free sulfur dioxide</th>\n",
       "      <th>total sulfur dioxide</th>\n",
       "      <th>density</th>\n",
       "      <th>pH</th>\n",
       "      <th>sulphates</th>\n",
       "      <th>alcohol</th>\n",
       "      <th>quality</th>\n",
       "    </tr>\n",
       "    <tr>\n",
       "      <th>wine type</th>\n",
       "      <th></th>\n",
       "      <th></th>\n",
       "      <th></th>\n",
       "      <th></th>\n",
       "      <th></th>\n",
       "      <th></th>\n",
       "      <th></th>\n",
       "      <th></th>\n",
       "      <th></th>\n",
       "      <th></th>\n",
       "      <th></th>\n",
       "      <th></th>\n",
       "    </tr>\n",
       "  </thead>\n",
       "  <tbody>\n",
       "    <tr>\n",
       "      <th>white</th>\n",
       "      <td>7.0</td>\n",
       "      <td>0.27</td>\n",
       "      <td>0.36</td>\n",
       "      <td>20.7</td>\n",
       "      <td>0.045</td>\n",
       "      <td>45.0</td>\n",
       "      <td>170.0</td>\n",
       "      <td>1.0010</td>\n",
       "      <td>3.00</td>\n",
       "      <td>0.45</td>\n",
       "      <td>8.8</td>\n",
       "      <td>6</td>\n",
       "    </tr>\n",
       "    <tr>\n",
       "      <th>white</th>\n",
       "      <td>6.3</td>\n",
       "      <td>0.30</td>\n",
       "      <td>0.34</td>\n",
       "      <td>1.6</td>\n",
       "      <td>0.049</td>\n",
       "      <td>14.0</td>\n",
       "      <td>132.0</td>\n",
       "      <td>0.9940</td>\n",
       "      <td>3.30</td>\n",
       "      <td>0.49</td>\n",
       "      <td>9.5</td>\n",
       "      <td>6</td>\n",
       "    </tr>\n",
       "    <tr>\n",
       "      <th>white</th>\n",
       "      <td>8.1</td>\n",
       "      <td>0.28</td>\n",
       "      <td>0.40</td>\n",
       "      <td>6.9</td>\n",
       "      <td>0.050</td>\n",
       "      <td>30.0</td>\n",
       "      <td>97.0</td>\n",
       "      <td>0.9951</td>\n",
       "      <td>3.26</td>\n",
       "      <td>0.44</td>\n",
       "      <td>10.1</td>\n",
       "      <td>6</td>\n",
       "    </tr>\n",
       "    <tr>\n",
       "      <th>white</th>\n",
       "      <td>7.2</td>\n",
       "      <td>0.23</td>\n",
       "      <td>0.32</td>\n",
       "      <td>8.5</td>\n",
       "      <td>0.058</td>\n",
       "      <td>47.0</td>\n",
       "      <td>186.0</td>\n",
       "      <td>0.9956</td>\n",
       "      <td>3.19</td>\n",
       "      <td>0.40</td>\n",
       "      <td>9.9</td>\n",
       "      <td>6</td>\n",
       "    </tr>\n",
       "    <tr>\n",
       "      <th>white</th>\n",
       "      <td>7.2</td>\n",
       "      <td>0.23</td>\n",
       "      <td>0.32</td>\n",
       "      <td>8.5</td>\n",
       "      <td>0.058</td>\n",
       "      <td>47.0</td>\n",
       "      <td>186.0</td>\n",
       "      <td>0.9956</td>\n",
       "      <td>3.19</td>\n",
       "      <td>0.40</td>\n",
       "      <td>9.9</td>\n",
       "      <td>6</td>\n",
       "    </tr>\n",
       "  </tbody>\n",
       "</table>\n",
       "</div>"
      ],
      "text/plain": [
       "           fixed acidity  volatile acidity  citric acid  residual sugar  \\\n",
       "wine type                                                                 \n",
       "white                7.0              0.27         0.36            20.7   \n",
       "white                6.3              0.30         0.34             1.6   \n",
       "white                8.1              0.28         0.40             6.9   \n",
       "white                7.2              0.23         0.32             8.5   \n",
       "white                7.2              0.23         0.32             8.5   \n",
       "\n",
       "           chlorides  free sulfur dioxide  total sulfur dioxide  density  \\\n",
       "wine type                                                                  \n",
       "white          0.045                 45.0                 170.0   1.0010   \n",
       "white          0.049                 14.0                 132.0   0.9940   \n",
       "white          0.050                 30.0                  97.0   0.9951   \n",
       "white          0.058                 47.0                 186.0   0.9956   \n",
       "white          0.058                 47.0                 186.0   0.9956   \n",
       "\n",
       "             pH  sulphates  alcohol  quality  \n",
       "wine type                                     \n",
       "white      3.00       0.45      8.8        6  \n",
       "white      3.30       0.49      9.5        6  \n",
       "white      3.26       0.44     10.1        6  \n",
       "white      3.19       0.40      9.9        6  \n",
       "white      3.19       0.40      9.9        6  "
      ]
     },
     "execution_count": 56,
     "metadata": {},
     "output_type": "execute_result"
    }
   ],
   "source": [
    "white_wine = Path('Resources/winequality-white.csv')\n",
    "white_wine_df = pd.read_csv(white_wine)\n",
    "white_wine_df[\"wine type\"] = \"white\"\n",
    "white_wine_df = white_wine_df.set_index(['wine type'])\n",
    "white_wine_df.head()"
   ]
  },
  {
   "cell_type": "code",
   "execution_count": 57,
   "id": "2045c2c5",
   "metadata": {},
   "outputs": [
    {
     "name": "stdout",
     "output_type": "stream",
     "text": [
      "937\n"
     ]
    }
   ],
   "source": [
    "# Check for duplicates\n",
    "duplicates = white_wine_df[white_wine_df.duplicated()]\n",
    "print(len(duplicates))"
   ]
  },
  {
   "cell_type": "code",
   "execution_count": 58,
   "id": "e6036b54",
   "metadata": {},
   "outputs": [],
   "source": [
    "# Drop all duplicates\n",
    "white_wine_df.drop_duplicates(keep='first',inplace=True)"
   ]
  },
  {
   "cell_type": "code",
   "execution_count": 59,
   "id": "d5bb61bd",
   "metadata": {},
   "outputs": [
    {
     "data": {
      "text/html": [
       "<div>\n",
       "<style scoped>\n",
       "    .dataframe tbody tr th:only-of-type {\n",
       "        vertical-align: middle;\n",
       "    }\n",
       "\n",
       "    .dataframe tbody tr th {\n",
       "        vertical-align: top;\n",
       "    }\n",
       "\n",
       "    .dataframe thead th {\n",
       "        text-align: right;\n",
       "    }\n",
       "</style>\n",
       "<table border=\"1\" class=\"dataframe\">\n",
       "  <thead>\n",
       "    <tr style=\"text-align: right;\">\n",
       "      <th></th>\n",
       "      <th>fixed acidity</th>\n",
       "      <th>volatile acidity</th>\n",
       "      <th>citric acid</th>\n",
       "      <th>residual sugar</th>\n",
       "      <th>chlorides</th>\n",
       "      <th>free sulfur dioxide</th>\n",
       "      <th>total sulfur dioxide</th>\n",
       "      <th>density</th>\n",
       "      <th>pH</th>\n",
       "      <th>sulphates</th>\n",
       "      <th>alcohol</th>\n",
       "      <th>quality</th>\n",
       "    </tr>\n",
       "    <tr>\n",
       "      <th>wine type</th>\n",
       "      <th></th>\n",
       "      <th></th>\n",
       "      <th></th>\n",
       "      <th></th>\n",
       "      <th></th>\n",
       "      <th></th>\n",
       "      <th></th>\n",
       "      <th></th>\n",
       "      <th></th>\n",
       "      <th></th>\n",
       "      <th></th>\n",
       "      <th></th>\n",
       "    </tr>\n",
       "  </thead>\n",
       "  <tbody>\n",
       "    <tr>\n",
       "      <th>red</th>\n",
       "      <td>7.4</td>\n",
       "      <td>0.70</td>\n",
       "      <td>0.00</td>\n",
       "      <td>1.9</td>\n",
       "      <td>0.076</td>\n",
       "      <td>11.0</td>\n",
       "      <td>34.0</td>\n",
       "      <td>0.9978</td>\n",
       "      <td>3.51</td>\n",
       "      <td>0.56</td>\n",
       "      <td>9.4</td>\n",
       "      <td>5</td>\n",
       "    </tr>\n",
       "    <tr>\n",
       "      <th>red</th>\n",
       "      <td>7.8</td>\n",
       "      <td>0.88</td>\n",
       "      <td>0.00</td>\n",
       "      <td>2.6</td>\n",
       "      <td>0.098</td>\n",
       "      <td>25.0</td>\n",
       "      <td>67.0</td>\n",
       "      <td>0.9968</td>\n",
       "      <td>3.20</td>\n",
       "      <td>0.68</td>\n",
       "      <td>9.8</td>\n",
       "      <td>5</td>\n",
       "    </tr>\n",
       "    <tr>\n",
       "      <th>red</th>\n",
       "      <td>7.8</td>\n",
       "      <td>0.76</td>\n",
       "      <td>0.04</td>\n",
       "      <td>2.3</td>\n",
       "      <td>0.092</td>\n",
       "      <td>15.0</td>\n",
       "      <td>54.0</td>\n",
       "      <td>0.9970</td>\n",
       "      <td>3.26</td>\n",
       "      <td>0.65</td>\n",
       "      <td>9.8</td>\n",
       "      <td>5</td>\n",
       "    </tr>\n",
       "    <tr>\n",
       "      <th>red</th>\n",
       "      <td>11.2</td>\n",
       "      <td>0.28</td>\n",
       "      <td>0.56</td>\n",
       "      <td>1.9</td>\n",
       "      <td>0.075</td>\n",
       "      <td>17.0</td>\n",
       "      <td>60.0</td>\n",
       "      <td>0.9980</td>\n",
       "      <td>3.16</td>\n",
       "      <td>0.58</td>\n",
       "      <td>9.8</td>\n",
       "      <td>6</td>\n",
       "    </tr>\n",
       "    <tr>\n",
       "      <th>red</th>\n",
       "      <td>7.4</td>\n",
       "      <td>0.66</td>\n",
       "      <td>0.00</td>\n",
       "      <td>1.8</td>\n",
       "      <td>0.075</td>\n",
       "      <td>13.0</td>\n",
       "      <td>40.0</td>\n",
       "      <td>0.9978</td>\n",
       "      <td>3.51</td>\n",
       "      <td>0.56</td>\n",
       "      <td>9.4</td>\n",
       "      <td>5</td>\n",
       "    </tr>\n",
       "  </tbody>\n",
       "</table>\n",
       "</div>"
      ],
      "text/plain": [
       "           fixed acidity  volatile acidity  citric acid  residual sugar  \\\n",
       "wine type                                                                 \n",
       "red                  7.4              0.70         0.00             1.9   \n",
       "red                  7.8              0.88         0.00             2.6   \n",
       "red                  7.8              0.76         0.04             2.3   \n",
       "red                 11.2              0.28         0.56             1.9   \n",
       "red                  7.4              0.66         0.00             1.8   \n",
       "\n",
       "           chlorides  free sulfur dioxide  total sulfur dioxide  density  \\\n",
       "wine type                                                                  \n",
       "red            0.076                 11.0                  34.0   0.9978   \n",
       "red            0.098                 25.0                  67.0   0.9968   \n",
       "red            0.092                 15.0                  54.0   0.9970   \n",
       "red            0.075                 17.0                  60.0   0.9980   \n",
       "red            0.075                 13.0                  40.0   0.9978   \n",
       "\n",
       "             pH  sulphates  alcohol  quality  \n",
       "wine type                                     \n",
       "red        3.51       0.56      9.4        5  \n",
       "red        3.20       0.68      9.8        5  \n",
       "red        3.26       0.65      9.8        5  \n",
       "red        3.16       0.58      9.8        6  \n",
       "red        3.51       0.56      9.4        5  "
      ]
     },
     "execution_count": 59,
     "metadata": {},
     "output_type": "execute_result"
    }
   ],
   "source": [
    "combined_df = pd.concat([red_wine_df, white_wine_df], join=\"outer\")\n",
    "combined_df.head()"
   ]
  },
  {
   "cell_type": "code",
   "execution_count": 60,
   "id": "418b97c7",
   "metadata": {},
   "outputs": [
    {
     "data": {
      "text/html": [
       "<div>\n",
       "<style scoped>\n",
       "    .dataframe tbody tr th:only-of-type {\n",
       "        vertical-align: middle;\n",
       "    }\n",
       "\n",
       "    .dataframe tbody tr th {\n",
       "        vertical-align: top;\n",
       "    }\n",
       "\n",
       "    .dataframe thead th {\n",
       "        text-align: right;\n",
       "    }\n",
       "</style>\n",
       "<table border=\"1\" class=\"dataframe\">\n",
       "  <thead>\n",
       "    <tr style=\"text-align: right;\">\n",
       "      <th></th>\n",
       "      <th>fixed acidity</th>\n",
       "      <th>volatile acidity</th>\n",
       "      <th>citric acid</th>\n",
       "      <th>residual sugar</th>\n",
       "      <th>chlorides</th>\n",
       "      <th>free sulfur dioxide</th>\n",
       "      <th>total sulfur dioxide</th>\n",
       "      <th>density</th>\n",
       "      <th>pH</th>\n",
       "      <th>sulphates</th>\n",
       "      <th>alcohol</th>\n",
       "      <th>quality</th>\n",
       "    </tr>\n",
       "  </thead>\n",
       "  <tbody>\n",
       "    <tr>\n",
       "      <th>count</th>\n",
       "      <td>5320.000000</td>\n",
       "      <td>5320.000000</td>\n",
       "      <td>5320.000000</td>\n",
       "      <td>5320.000000</td>\n",
       "      <td>5320.000000</td>\n",
       "      <td>5320.000000</td>\n",
       "      <td>5320.000000</td>\n",
       "      <td>5320.000000</td>\n",
       "      <td>5320.000000</td>\n",
       "      <td>5320.000000</td>\n",
       "      <td>5320.000000</td>\n",
       "      <td>5320.000000</td>\n",
       "    </tr>\n",
       "    <tr>\n",
       "      <th>mean</th>\n",
       "      <td>7.215179</td>\n",
       "      <td>0.344130</td>\n",
       "      <td>0.318494</td>\n",
       "      <td>5.048477</td>\n",
       "      <td>0.056690</td>\n",
       "      <td>30.036654</td>\n",
       "      <td>114.109023</td>\n",
       "      <td>0.994535</td>\n",
       "      <td>3.224664</td>\n",
       "      <td>0.533357</td>\n",
       "      <td>10.549241</td>\n",
       "      <td>5.795677</td>\n",
       "    </tr>\n",
       "    <tr>\n",
       "      <th>std</th>\n",
       "      <td>1.319671</td>\n",
       "      <td>0.168248</td>\n",
       "      <td>0.147157</td>\n",
       "      <td>4.500180</td>\n",
       "      <td>0.036863</td>\n",
       "      <td>17.805045</td>\n",
       "      <td>56.774223</td>\n",
       "      <td>0.002966</td>\n",
       "      <td>0.160379</td>\n",
       "      <td>0.149743</td>\n",
       "      <td>1.185933</td>\n",
       "      <td>0.879772</td>\n",
       "    </tr>\n",
       "    <tr>\n",
       "      <th>min</th>\n",
       "      <td>3.800000</td>\n",
       "      <td>0.080000</td>\n",
       "      <td>0.000000</td>\n",
       "      <td>0.600000</td>\n",
       "      <td>0.009000</td>\n",
       "      <td>1.000000</td>\n",
       "      <td>6.000000</td>\n",
       "      <td>0.987110</td>\n",
       "      <td>2.720000</td>\n",
       "      <td>0.220000</td>\n",
       "      <td>8.000000</td>\n",
       "      <td>3.000000</td>\n",
       "    </tr>\n",
       "    <tr>\n",
       "      <th>25%</th>\n",
       "      <td>6.400000</td>\n",
       "      <td>0.230000</td>\n",
       "      <td>0.240000</td>\n",
       "      <td>1.800000</td>\n",
       "      <td>0.038000</td>\n",
       "      <td>16.000000</td>\n",
       "      <td>74.000000</td>\n",
       "      <td>0.992200</td>\n",
       "      <td>3.110000</td>\n",
       "      <td>0.430000</td>\n",
       "      <td>9.500000</td>\n",
       "      <td>5.000000</td>\n",
       "    </tr>\n",
       "    <tr>\n",
       "      <th>50%</th>\n",
       "      <td>7.000000</td>\n",
       "      <td>0.300000</td>\n",
       "      <td>0.310000</td>\n",
       "      <td>2.700000</td>\n",
       "      <td>0.047000</td>\n",
       "      <td>28.000000</td>\n",
       "      <td>116.000000</td>\n",
       "      <td>0.994650</td>\n",
       "      <td>3.210000</td>\n",
       "      <td>0.510000</td>\n",
       "      <td>10.400000</td>\n",
       "      <td>6.000000</td>\n",
       "    </tr>\n",
       "    <tr>\n",
       "      <th>75%</th>\n",
       "      <td>7.700000</td>\n",
       "      <td>0.410000</td>\n",
       "      <td>0.400000</td>\n",
       "      <td>7.500000</td>\n",
       "      <td>0.066000</td>\n",
       "      <td>41.000000</td>\n",
       "      <td>153.250000</td>\n",
       "      <td>0.996770</td>\n",
       "      <td>3.330000</td>\n",
       "      <td>0.600000</td>\n",
       "      <td>11.400000</td>\n",
       "      <td>6.000000</td>\n",
       "    </tr>\n",
       "    <tr>\n",
       "      <th>max</th>\n",
       "      <td>15.900000</td>\n",
       "      <td>1.580000</td>\n",
       "      <td>1.660000</td>\n",
       "      <td>65.800000</td>\n",
       "      <td>0.611000</td>\n",
       "      <td>289.000000</td>\n",
       "      <td>440.000000</td>\n",
       "      <td>1.038980</td>\n",
       "      <td>4.010000</td>\n",
       "      <td>2.000000</td>\n",
       "      <td>14.900000</td>\n",
       "      <td>9.000000</td>\n",
       "    </tr>\n",
       "  </tbody>\n",
       "</table>\n",
       "</div>"
      ],
      "text/plain": [
       "       fixed acidity  volatile acidity  citric acid  residual sugar  \\\n",
       "count    5320.000000       5320.000000  5320.000000     5320.000000   \n",
       "mean        7.215179          0.344130     0.318494        5.048477   \n",
       "std         1.319671          0.168248     0.147157        4.500180   \n",
       "min         3.800000          0.080000     0.000000        0.600000   \n",
       "25%         6.400000          0.230000     0.240000        1.800000   \n",
       "50%         7.000000          0.300000     0.310000        2.700000   \n",
       "75%         7.700000          0.410000     0.400000        7.500000   \n",
       "max        15.900000          1.580000     1.660000       65.800000   \n",
       "\n",
       "         chlorides  free sulfur dioxide  total sulfur dioxide      density  \\\n",
       "count  5320.000000          5320.000000           5320.000000  5320.000000   \n",
       "mean      0.056690            30.036654            114.109023     0.994535   \n",
       "std       0.036863            17.805045             56.774223     0.002966   \n",
       "min       0.009000             1.000000              6.000000     0.987110   \n",
       "25%       0.038000            16.000000             74.000000     0.992200   \n",
       "50%       0.047000            28.000000            116.000000     0.994650   \n",
       "75%       0.066000            41.000000            153.250000     0.996770   \n",
       "max       0.611000           289.000000            440.000000     1.038980   \n",
       "\n",
       "                pH    sulphates      alcohol      quality  \n",
       "count  5320.000000  5320.000000  5320.000000  5320.000000  \n",
       "mean      3.224664     0.533357    10.549241     5.795677  \n",
       "std       0.160379     0.149743     1.185933     0.879772  \n",
       "min       2.720000     0.220000     8.000000     3.000000  \n",
       "25%       3.110000     0.430000     9.500000     5.000000  \n",
       "50%       3.210000     0.510000    10.400000     6.000000  \n",
       "75%       3.330000     0.600000    11.400000     6.000000  \n",
       "max       4.010000     2.000000    14.900000     9.000000  "
      ]
     },
     "execution_count": 60,
     "metadata": {},
     "output_type": "execute_result"
    }
   ],
   "source": [
    "combined_df.describe()"
   ]
  },
  {
   "cell_type": "code",
   "execution_count": 61,
   "id": "0b1e7140",
   "metadata": {},
   "outputs": [
    {
     "data": {
      "image/png": "[encoded data removed]",
      "text/plain": [
       "<Figure size 432x288 with 1 Axes>"
      ]
     },
     "metadata": {
      "needs_background": "light"
     },
     "output_type": "display_data"
    }
   ],
   "source": [
    "plt.bar(red_wine_df['quality'], red_wine_df['alcohol'])\n",
    "plt.title('Relationship between alcohol and quality')\n",
    "plt.xlabel('quality')\n",
    "plt.ylabel('alcohol')\n",
    "\n",
    "plt.show()"
   ]
  },
  {
   "cell_type": "code",
   "execution_count": 90,
   "id": "aca7eced",
   "metadata": {},
   "outputs": [
    {
     "data": {
      "image/png": "[encoded data removed]",
      "text/plain": [
       "<Figure size 432x288 with 1 Axes>"
      ]
     },
     "metadata": {
      "needs_background": "light"
     },
     "output_type": "display_data"
    }
   ],
   "source": [
    "plt.bar(white_wine_df['quality'], white_wine_df['alcohol'])\n",
    "plt.title('Relationship between alcohol and quality')\n",
    "plt.xlabel('quality')\n",
    "plt.ylabel('alcohol')\n",
    "\n",
    "plt.show()"
   ]
  },
  {
   "cell_type": "markdown",
   "id": "2052885b",
   "metadata": {},
   "source": [
    "# Convert the dataset to a Classification Problem (Red Wines):"
   ]
  },
  {
   "cell_type": "code",
   "execution_count": 62,
   "id": "a6cbab9d",
   "metadata": {},
   "outputs": [],
   "source": [
    "red_wine_df[\"good wine\"] = [\"yes\" if i >= 6 else \"no\" for i in red_wine_df['quality']]"
   ]
  },
  {
   "cell_type": "markdown",
   "id": "1d1ebdb0",
   "metadata": {},
   "source": [
    "## create features X and target variable y:"
   ]
  },
  {
   "cell_type": "code",
   "execution_count": 63,
   "id": "ddf7c291",
   "metadata": {},
   "outputs": [],
   "source": [
    "X = red_wine_df.drop([\"quality\"], axis = 1)\n",
    "y = red_wine_df[\"good wine\"]"
   ]
  },
  {
   "cell_type": "code",
   "execution_count": 64,
   "id": "878fbb22",
   "metadata": {},
   "outputs": [
    {
     "data": {
      "text/plain": [
       "yes    719\n",
       "no     640\n",
       "Name: good wine, dtype: int64"
      ]
     },
     "execution_count": 64,
     "metadata": {},
     "output_type": "execute_result"
    }
   ],
   "source": [
    "y.value_counts()"
   ]
  },
  {
   "cell_type": "code",
   "execution_count": 65,
   "id": "b044e430",
   "metadata": {},
   "outputs": [
    {
     "name": "stderr",
     "output_type": "stream",
     "text": [
      "C:\\Users\\rmwil\\anaconda3\\envs\\pyvizenv\\lib\\site-packages\\seaborn\\_decorators.py:43: FutureWarning: Pass the following variable as a keyword arg: x. From version 0.12, the only valid positional argument will be `data`, and passing other arguments without an explicit keyword will result in an error or misinterpretation.\n",
      "  FutureWarning\n"
     ]
    },
    {
     "data": {
      "image/png": "[encoded data removed]",
      "text/plain": [
       "<Figure size 432x288 with 1 Axes>"
      ]
     },
     "metadata": {
      "needs_background": "light"
     },
     "output_type": "display_data"
    }
   ],
   "source": [
    "sns.countplot(y)\n",
    "plt.show()"
   ]
  },
  {
   "cell_type": "code",
   "execution_count": 66,
   "id": "9385c122",
   "metadata": {},
   "outputs": [
    {
     "data": {
      "text/html": [
       "<div>\n",
       "<style scoped>\n",
       "    .dataframe tbody tr th:only-of-type {\n",
       "        vertical-align: middle;\n",
       "    }\n",
       "\n",
       "    .dataframe tbody tr th {\n",
       "        vertical-align: top;\n",
       "    }\n",
       "\n",
       "    .dataframe thead th {\n",
       "        text-align: right;\n",
       "    }\n",
       "</style>\n",
       "<table border=\"1\" class=\"dataframe\">\n",
       "  <thead>\n",
       "    <tr style=\"text-align: right;\">\n",
       "      <th></th>\n",
       "      <th>fixed acidity</th>\n",
       "      <th>volatile acidity</th>\n",
       "      <th>citric acid</th>\n",
       "      <th>residual sugar</th>\n",
       "      <th>chlorides</th>\n",
       "      <th>free sulfur dioxide</th>\n",
       "      <th>total sulfur dioxide</th>\n",
       "      <th>density</th>\n",
       "      <th>pH</th>\n",
       "      <th>sulphates</th>\n",
       "      <th>alcohol</th>\n",
       "      <th>good wine</th>\n",
       "    </tr>\n",
       "    <tr>\n",
       "      <th>wine type</th>\n",
       "      <th></th>\n",
       "      <th></th>\n",
       "      <th></th>\n",
       "      <th></th>\n",
       "      <th></th>\n",
       "      <th></th>\n",
       "      <th></th>\n",
       "      <th></th>\n",
       "      <th></th>\n",
       "      <th></th>\n",
       "      <th></th>\n",
       "      <th></th>\n",
       "    </tr>\n",
       "  </thead>\n",
       "  <tbody>\n",
       "    <tr>\n",
       "      <th>red</th>\n",
       "      <td>7.4</td>\n",
       "      <td>0.70</td>\n",
       "      <td>0.00</td>\n",
       "      <td>1.9</td>\n",
       "      <td>0.076</td>\n",
       "      <td>11.0</td>\n",
       "      <td>34.0</td>\n",
       "      <td>0.9978</td>\n",
       "      <td>3.51</td>\n",
       "      <td>0.56</td>\n",
       "      <td>9.4</td>\n",
       "      <td>0</td>\n",
       "    </tr>\n",
       "    <tr>\n",
       "      <th>red</th>\n",
       "      <td>7.8</td>\n",
       "      <td>0.88</td>\n",
       "      <td>0.00</td>\n",
       "      <td>2.6</td>\n",
       "      <td>0.098</td>\n",
       "      <td>25.0</td>\n",
       "      <td>67.0</td>\n",
       "      <td>0.9968</td>\n",
       "      <td>3.20</td>\n",
       "      <td>0.68</td>\n",
       "      <td>9.8</td>\n",
       "      <td>0</td>\n",
       "    </tr>\n",
       "    <tr>\n",
       "      <th>red</th>\n",
       "      <td>7.8</td>\n",
       "      <td>0.76</td>\n",
       "      <td>0.04</td>\n",
       "      <td>2.3</td>\n",
       "      <td>0.092</td>\n",
       "      <td>15.0</td>\n",
       "      <td>54.0</td>\n",
       "      <td>0.9970</td>\n",
       "      <td>3.26</td>\n",
       "      <td>0.65</td>\n",
       "      <td>9.8</td>\n",
       "      <td>0</td>\n",
       "    </tr>\n",
       "    <tr>\n",
       "      <th>red</th>\n",
       "      <td>11.2</td>\n",
       "      <td>0.28</td>\n",
       "      <td>0.56</td>\n",
       "      <td>1.9</td>\n",
       "      <td>0.075</td>\n",
       "      <td>17.0</td>\n",
       "      <td>60.0</td>\n",
       "      <td>0.9980</td>\n",
       "      <td>3.16</td>\n",
       "      <td>0.58</td>\n",
       "      <td>9.8</td>\n",
       "      <td>1</td>\n",
       "    </tr>\n",
       "    <tr>\n",
       "      <th>red</th>\n",
       "      <td>7.4</td>\n",
       "      <td>0.66</td>\n",
       "      <td>0.00</td>\n",
       "      <td>1.8</td>\n",
       "      <td>0.075</td>\n",
       "      <td>13.0</td>\n",
       "      <td>40.0</td>\n",
       "      <td>0.9978</td>\n",
       "      <td>3.51</td>\n",
       "      <td>0.56</td>\n",
       "      <td>9.4</td>\n",
       "      <td>0</td>\n",
       "    </tr>\n",
       "  </tbody>\n",
       "</table>\n",
       "</div>"
      ],
      "text/plain": [
       "           fixed acidity  volatile acidity  citric acid  residual sugar  \\\n",
       "wine type                                                                 \n",
       "red                  7.4              0.70         0.00             1.9   \n",
       "red                  7.8              0.88         0.00             2.6   \n",
       "red                  7.8              0.76         0.04             2.3   \n",
       "red                 11.2              0.28         0.56             1.9   \n",
       "red                  7.4              0.66         0.00             1.8   \n",
       "\n",
       "           chlorides  free sulfur dioxide  total sulfur dioxide  density  \\\n",
       "wine type                                                                  \n",
       "red            0.076                 11.0                  34.0   0.9978   \n",
       "red            0.098                 25.0                  67.0   0.9968   \n",
       "red            0.092                 15.0                  54.0   0.9970   \n",
       "red            0.075                 17.0                  60.0   0.9980   \n",
       "red            0.075                 13.0                  40.0   0.9978   \n",
       "\n",
       "             pH  sulphates  alcohol  good wine  \n",
       "wine type                                       \n",
       "red        3.51       0.56      9.4          0  \n",
       "red        3.20       0.68      9.8          0  \n",
       "red        3.26       0.65      9.8          0  \n",
       "red        3.16       0.58      9.8          1  \n",
       "red        3.51       0.56      9.4          0  "
      ]
     },
     "execution_count": 66,
     "metadata": {},
     "output_type": "execute_result"
    }
   ],
   "source": [
    "red_wine_df[\"good wine\"] = [\"1\" if i >= 6 else \"0\" for i in red_wine_df['quality']]\n",
    "rw_df = red_wine_df.copy()\n",
    "rw_df = rw_df.drop(['quality'], axis=1)\n",
    "rw_df['good wine'] = rw_df['good wine'].astype(int)\n",
    "rw_df.head()"
   ]
  },
  {
   "cell_type": "markdown",
   "id": "118d1f38",
   "metadata": {},
   "source": [
    "## Test/Train Split - Red Wine"
   ]
  },
  {
   "cell_type": "code",
   "execution_count": 67,
   "id": "4d5b1dcd",
   "metadata": {},
   "outputs": [],
   "source": [
    "# The target variable\n",
    "y = rw_df['good wine']"
   ]
  },
  {
   "cell_type": "code",
   "execution_count": 68,
   "id": "7f815bd2",
   "metadata": {},
   "outputs": [],
   "source": [
    "# Drop target and set the dependent values variables \n",
    "X = rw_df.drop('good wine', axis=1) "
   ]
  },
  {
   "cell_type": "code",
   "execution_count": 69,
   "id": "4aff1cef",
   "metadata": {},
   "outputs": [],
   "source": [
    "# Split into training and test sets\n",
    "from sklearn.model_selection import train_test_split\n",
    "X_train, X_test, y_train, y_test = train_test_split(X, y, test_size=0.25, random_state=42)"
   ]
  },
  {
   "cell_type": "markdown",
   "id": "bc39e7df",
   "metadata": {},
   "source": [
    "## Scaling the Data"
   ]
  },
  {
   "cell_type": "code",
   "execution_count": 70,
   "id": "2b062dff",
   "metadata": {},
   "outputs": [],
   "source": [
    "# Applying Standard scaling to get optimized result\n",
    "stdscr = StandardScaler()\n",
    "X_train = stdscr.fit_transform(X_train)\n",
    "# Remember to keep the test data seperate!\n",
    "X_test = stdscr.fit_transform(X_test)"
   ]
  },
  {
   "cell_type": "markdown",
   "id": "45765c15",
   "metadata": {},
   "source": [
    "## XGBoost"
   ]
  },
  {
   "cell_type": "code",
   "execution_count": 71,
   "id": "29abb214",
   "metadata": {},
   "outputs": [
    {
     "name": "stderr",
     "output_type": "stream",
     "text": [
      "C:\\Users\\rmwil\\anaconda3\\envs\\pyvizenv\\lib\\site-packages\\xgboost\\sklearn.py:1224: UserWarning: The use of label encoder in XGBClassifier is deprecated and will be removed in a future release. To remove this warning, do the following: 1) Pass option use_label_encoder=False when constructing XGBClassifier object; and 2) Encode your labels (y) as integers starting with 0, i.e. 0, 1, 2, ..., [num_class - 1].\n",
      "  warnings.warn(label_encoder_deprecation_msg, UserWarning)\n"
     ]
    },
    {
     "name": "stdout",
     "output_type": "stream",
     "text": [
      "[21:12:28] WARNING: C:/Users/Administrator/workspace/xgboost-win64_release_1.5.1/src/learner.cc:1115: Starting in XGBoost 1.3.0, the default evaluation metric used with the objective 'binary:logistic' was changed from 'error' to 'logloss'. Explicitly set eval_metric if you'd like to restore the old behavior.\n",
      "XGB Training Accuracy: 100.0%\n",
      "XGB Validation accuracy: 74.12%\n"
     ]
    }
   ],
   "source": [
    "# XGB classifier\n",
    "xgb_clf = xgb.XGBClassifier()\n",
    "xgb_clf.fit(X_train, y_train)\n",
    "\n",
    "xgb_training_preds = xgb_clf.predict(X_train)\n",
    "xgb_training_accuracy = accuracy_score(y_train, xgb_training_preds)\n",
    "\n",
    "xgb_val_preds = xgb_clf.predict(X_test)\n",
    "xgb_val_accuracy = accuracy_score(y_test, xgb_val_preds)\n",
    "\n",
    "print(\"XGB Training Accuracy: {:.4}%\".format(xgb_training_accuracy * 100))\n",
    "print(\"XGB Validation accuracy: {:.4}%\".format(xgb_val_accuracy * 100))"
   ]
  },
  {
   "cell_type": "code",
   "execution_count": 72,
   "id": "334feb2f",
   "metadata": {},
   "outputs": [
    {
     "name": "stdout",
     "output_type": "stream",
     "text": [
      "              precision    recall  f1-score   support\n",
      "\n",
      "           0       0.74      0.71      0.72       164\n",
      "           1       0.74      0.77      0.76       176\n",
      "\n",
      "    accuracy                           0.74       340\n",
      "   macro avg       0.74      0.74      0.74       340\n",
      "weighted avg       0.74      0.74      0.74       340\n",
      "\n"
     ]
    }
   ],
   "source": [
    "# XGB classification report\n",
    "print(classification_report(y_test, xgb_val_preds))"
   ]
  },
  {
   "cell_type": "code",
   "execution_count": 73,
   "id": "028f67ed",
   "metadata": {},
   "outputs": [
    {
     "name": "stdout",
     "output_type": "stream",
     "text": [
      "Confusion Matrix:\n",
      " [[116  48]\n",
      " [ 40 136]]\n"
     ]
    }
   ],
   "source": [
    "# Regular confusion matrix\n",
    "xgb_matrix = confusion_matrix(y_test, xgb_val_preds)\n",
    "print('Confusion Matrix:\\n', xgb_matrix)"
   ]
  },
  {
   "cell_type": "markdown",
   "id": "43cf9ba2",
   "metadata": {},
   "source": [
    "## KNN Model- Red Wine"
   ]
  },
  {
   "cell_type": "code",
   "execution_count": 74,
   "id": "ee17158d",
   "metadata": {},
   "outputs": [
    {
     "name": "stdout",
     "output_type": "stream",
     "text": [
      "KNN Training Accuracy: 80.37%\n",
      "KNN Validation accuracy: 68.53%\n"
     ]
    }
   ],
   "source": [
    "knn_clf = KNeighborsClassifier()\n",
    "knn_clf.fit(X_train, y_train)\n",
    "\n",
    "knn_training_preds = knn_clf.predict(X_train)\n",
    "knn_training_accuracy = accuracy_score(y_train, knn_training_preds)\n",
    "\n",
    "knn_val_preds = knn_clf.predict(X_test)\n",
    "knn_val_accuracy = accuracy_score(y_test, knn_val_preds)\n",
    "\n",
    "print(\"KNN Training Accuracy: {:.4}%\".format(knn_training_accuracy * 100))\n",
    "print(\"KNN Validation accuracy: {:.4}%\".format(knn_val_accuracy * 100))"
   ]
  },
  {
   "cell_type": "code",
   "execution_count": 75,
   "id": "eaa5f2a1",
   "metadata": {},
   "outputs": [
    {
     "name": "stdout",
     "output_type": "stream",
     "text": [
      "              precision    recall  f1-score   support\n",
      "\n",
      "           0       0.68      0.65      0.66       164\n",
      "           1       0.69      0.72      0.70       176\n",
      "\n",
      "    accuracy                           0.69       340\n",
      "   macro avg       0.69      0.68      0.68       340\n",
      "weighted avg       0.69      0.69      0.68       340\n",
      "\n"
     ]
    }
   ],
   "source": [
    "# KNN classification report\n",
    "print(classification_report(y_test, knn_val_preds))"
   ]
  },
  {
   "cell_type": "code",
   "execution_count": 76,
   "id": "14b4cd20",
   "metadata": {},
   "outputs": [
    {
     "name": "stdout",
     "output_type": "stream",
     "text": [
      "Confusion Matrix:\n",
      " [[106  58]\n",
      " [ 49 127]]\n"
     ]
    }
   ],
   "source": [
    "# Regular confusion matrix\n",
    "knn_matrix = confusion_matrix(y_test, knn_val_preds)\n",
    "print('Confusion Matrix:\\n', knn_matrix)"
   ]
  },
  {
   "cell_type": "markdown",
   "id": "577588c0",
   "metadata": {},
   "source": [
    "# Convert the dataset to a Classification Problem (White Wines):"
   ]
  },
  {
   "cell_type": "markdown",
   "id": "c0968257",
   "metadata": {},
   "source": [
    "## create features X and target variable y:"
   ]
  },
  {
   "cell_type": "code",
   "execution_count": 77,
   "id": "6a4939fa",
   "metadata": {},
   "outputs": [
    {
     "data": {
      "text/html": [
       "<div>\n",
       "<style scoped>\n",
       "    .dataframe tbody tr th:only-of-type {\n",
       "        vertical-align: middle;\n",
       "    }\n",
       "\n",
       "    .dataframe tbody tr th {\n",
       "        vertical-align: top;\n",
       "    }\n",
       "\n",
       "    .dataframe thead th {\n",
       "        text-align: right;\n",
       "    }\n",
       "</style>\n",
       "<table border=\"1\" class=\"dataframe\">\n",
       "  <thead>\n",
       "    <tr style=\"text-align: right;\">\n",
       "      <th></th>\n",
       "      <th>fixed acidity</th>\n",
       "      <th>volatile acidity</th>\n",
       "      <th>citric acid</th>\n",
       "      <th>residual sugar</th>\n",
       "      <th>chlorides</th>\n",
       "      <th>free sulfur dioxide</th>\n",
       "      <th>total sulfur dioxide</th>\n",
       "      <th>density</th>\n",
       "      <th>pH</th>\n",
       "      <th>sulphates</th>\n",
       "      <th>alcohol</th>\n",
       "      <th>good wine</th>\n",
       "    </tr>\n",
       "    <tr>\n",
       "      <th>wine type</th>\n",
       "      <th></th>\n",
       "      <th></th>\n",
       "      <th></th>\n",
       "      <th></th>\n",
       "      <th></th>\n",
       "      <th></th>\n",
       "      <th></th>\n",
       "      <th></th>\n",
       "      <th></th>\n",
       "      <th></th>\n",
       "      <th></th>\n",
       "      <th></th>\n",
       "    </tr>\n",
       "  </thead>\n",
       "  <tbody>\n",
       "    <tr>\n",
       "      <th>white</th>\n",
       "      <td>6.2</td>\n",
       "      <td>0.21</td>\n",
       "      <td>0.29</td>\n",
       "      <td>1.6</td>\n",
       "      <td>0.039</td>\n",
       "      <td>24.0</td>\n",
       "      <td>92.0</td>\n",
       "      <td>0.99114</td>\n",
       "      <td>3.27</td>\n",
       "      <td>0.50</td>\n",
       "      <td>11.2</td>\n",
       "      <td>1</td>\n",
       "    </tr>\n",
       "    <tr>\n",
       "      <th>white</th>\n",
       "      <td>6.6</td>\n",
       "      <td>0.32</td>\n",
       "      <td>0.36</td>\n",
       "      <td>8.0</td>\n",
       "      <td>0.047</td>\n",
       "      <td>57.0</td>\n",
       "      <td>168.0</td>\n",
       "      <td>0.99490</td>\n",
       "      <td>3.15</td>\n",
       "      <td>0.46</td>\n",
       "      <td>9.6</td>\n",
       "      <td>0</td>\n",
       "    </tr>\n",
       "    <tr>\n",
       "      <th>white</th>\n",
       "      <td>6.5</td>\n",
       "      <td>0.24</td>\n",
       "      <td>0.19</td>\n",
       "      <td>1.2</td>\n",
       "      <td>0.041</td>\n",
       "      <td>30.0</td>\n",
       "      <td>111.0</td>\n",
       "      <td>0.99254</td>\n",
       "      <td>2.99</td>\n",
       "      <td>0.46</td>\n",
       "      <td>9.4</td>\n",
       "      <td>1</td>\n",
       "    </tr>\n",
       "    <tr>\n",
       "      <th>white</th>\n",
       "      <td>5.5</td>\n",
       "      <td>0.29</td>\n",
       "      <td>0.30</td>\n",
       "      <td>1.1</td>\n",
       "      <td>0.022</td>\n",
       "      <td>20.0</td>\n",
       "      <td>110.0</td>\n",
       "      <td>0.98869</td>\n",
       "      <td>3.34</td>\n",
       "      <td>0.38</td>\n",
       "      <td>12.8</td>\n",
       "      <td>1</td>\n",
       "    </tr>\n",
       "    <tr>\n",
       "      <th>white</th>\n",
       "      <td>6.0</td>\n",
       "      <td>0.21</td>\n",
       "      <td>0.38</td>\n",
       "      <td>0.8</td>\n",
       "      <td>0.020</td>\n",
       "      <td>22.0</td>\n",
       "      <td>98.0</td>\n",
       "      <td>0.98941</td>\n",
       "      <td>3.26</td>\n",
       "      <td>0.32</td>\n",
       "      <td>11.8</td>\n",
       "      <td>1</td>\n",
       "    </tr>\n",
       "  </tbody>\n",
       "</table>\n",
       "</div>"
      ],
      "text/plain": [
       "           fixed acidity  volatile acidity  citric acid  residual sugar  \\\n",
       "wine type                                                                 \n",
       "white                6.2              0.21         0.29             1.6   \n",
       "white                6.6              0.32         0.36             8.0   \n",
       "white                6.5              0.24         0.19             1.2   \n",
       "white                5.5              0.29         0.30             1.1   \n",
       "white                6.0              0.21         0.38             0.8   \n",
       "\n",
       "           chlorides  free sulfur dioxide  total sulfur dioxide  density  \\\n",
       "wine type                                                                  \n",
       "white          0.039                 24.0                  92.0  0.99114   \n",
       "white          0.047                 57.0                 168.0  0.99490   \n",
       "white          0.041                 30.0                 111.0  0.99254   \n",
       "white          0.022                 20.0                 110.0  0.98869   \n",
       "white          0.020                 22.0                  98.0  0.98941   \n",
       "\n",
       "             pH  sulphates  alcohol  good wine  \n",
       "wine type                                       \n",
       "white      3.27       0.50     11.2          1  \n",
       "white      3.15       0.46      9.6          0  \n",
       "white      2.99       0.46      9.4          1  \n",
       "white      3.34       0.38     12.8          1  \n",
       "white      3.26       0.32     11.8          1  "
      ]
     },
     "execution_count": 77,
     "metadata": {},
     "output_type": "execute_result"
    }
   ],
   "source": [
    "white_wine_df[\"good wine\"] = [\"1\" if i >= 6 else \"0\" for i in white_wine_df['quality']]\n",
    "ww_df = white_wine_df.copy()\n",
    "ww_df = ww_df.drop(['quality'], axis=1)\n",
    "ww_df['good wine'] = ww_df['good wine'].astype(int)\n",
    "ww_df.tail()"
   ]
  },
  {
   "cell_type": "code",
   "execution_count": 78,
   "id": "9051b2dc",
   "metadata": {},
   "outputs": [],
   "source": [
    "X_w = ww_df.drop([\"good wine\"], axis = 1)\n",
    "y_w = ww_df[\"good wine\"]"
   ]
  },
  {
   "cell_type": "code",
   "execution_count": 79,
   "id": "c3e39a7b",
   "metadata": {},
   "outputs": [
    {
     "data": {
      "text/plain": [
       "1    719\n",
       "0    640\n",
       "Name: good wine, dtype: int64"
      ]
     },
     "execution_count": 79,
     "metadata": {},
     "output_type": "execute_result"
    }
   ],
   "source": [
    "y.value_counts()"
   ]
  },
  {
   "cell_type": "code",
   "execution_count": 80,
   "id": "7c691547",
   "metadata": {},
   "outputs": [
    {
     "name": "stderr",
     "output_type": "stream",
     "text": [
      "C:\\Users\\rmwil\\anaconda3\\envs\\pyvizenv\\lib\\site-packages\\seaborn\\_decorators.py:43: FutureWarning: Pass the following variable as a keyword arg: x. From version 0.12, the only valid positional argument will be `data`, and passing other arguments without an explicit keyword will result in an error or misinterpretation.\n",
      "  FutureWarning\n"
     ]
    },
    {
     "data": {
      "image/png": "[encoded data removed]",
      "text/plain": [
       "<Figure size 432x288 with 1 Axes>"
      ]
     },
     "metadata": {
      "needs_background": "light"
     },
     "output_type": "display_data"
    }
   ],
   "source": [
    "sns.countplot(y)\n",
    "plt.show()"
   ]
  },
  {
   "cell_type": "code",
   "execution_count": 81,
   "id": "ea720a32",
   "metadata": {},
   "outputs": [],
   "source": [
    "# The target variable\n",
    "y_w = ww_df['good wine']"
   ]
  },
  {
   "cell_type": "code",
   "execution_count": 82,
   "id": "e8260cf9",
   "metadata": {},
   "outputs": [],
   "source": [
    "# Drop target and set the dependent values variables \n",
    "X_w = ww_df.drop('good wine', axis=1) "
   ]
  },
  {
   "cell_type": "code",
   "execution_count": 83,
   "id": "45356efd",
   "metadata": {},
   "outputs": [],
   "source": [
    "# Split into training and test sets\n",
    "X_train_w, X_test_w, y_train_w, y_test_w = train_test_split(X_w, y_w, test_size=0.25, random_state=42)"
   ]
  },
  {
   "cell_type": "markdown",
   "id": "bc9bfbc2",
   "metadata": {},
   "source": [
    "## Scaling the Data"
   ]
  },
  {
   "cell_type": "code",
   "execution_count": 84,
   "id": "e09cbe41",
   "metadata": {},
   "outputs": [],
   "source": [
    "# Applying Standard scaling to get optimized result\n",
    "stdscr = StandardScaler()\n",
    "X_train_w = stdscr.fit_transform(X_train_w)\n",
    "# Remember to keep the test data seperate!\n",
    "X_test_w = stdscr.fit_transform(X_test_w)"
   ]
  },
  {
   "cell_type": "markdown",
   "id": "12ef09e7",
   "metadata": {},
   "source": [
    "## XGBoost - White Wine"
   ]
  },
  {
   "cell_type": "code",
   "execution_count": 85,
   "id": "526c40bf",
   "metadata": {},
   "outputs": [
    {
     "name": "stderr",
     "output_type": "stream",
     "text": [
      "C:\\Users\\rmwil\\anaconda3\\envs\\pyvizenv\\lib\\site-packages\\xgboost\\sklearn.py:1224: UserWarning: The use of label encoder in XGBClassifier is deprecated and will be removed in a future release. To remove this warning, do the following: 1) Pass option use_label_encoder=False when constructing XGBClassifier object; and 2) Encode your labels (y) as integers starting with 0, i.e. 0, 1, 2, ..., [num_class - 1].\n",
      "  warnings.warn(label_encoder_deprecation_msg, UserWarning)\n"
     ]
    },
    {
     "name": "stdout",
     "output_type": "stream",
     "text": [
      "[21:12:47] WARNING: C:/Users/Administrator/workspace/xgboost-win64_release_1.5.1/src/learner.cc:1115: Starting in XGBoost 1.3.0, the default evaluation metric used with the objective 'binary:logistic' was changed from 'error' to 'logloss'. Explicitly set eval_metric if you'd like to restore the old behavior.\n",
      "XGB Training Accuracy: 99.53%\n",
      "XGB Validation accuracy: 74.57%\n"
     ]
    }
   ],
   "source": [
    "# XGB classifier\n",
    "xgb_clf = xgb.XGBClassifier()\n",
    "xgb_clf.fit(X_train_w, y_train_w)\n",
    "\n",
    "xgb_training_preds = xgb_clf.predict(X_train_w)\n",
    "xgb_training_accuracy = accuracy_score(y_train_w, xgb_training_preds)\n",
    "\n",
    "xgb_val_preds = xgb_clf.predict(X_test_w)\n",
    "xgb_val_accuracy = accuracy_score(y_test_w, xgb_val_preds)\n",
    "\n",
    "print(\"XGB Training Accuracy: {:.4}%\".format(xgb_training_accuracy * 100))\n",
    "print(\"XGB Validation accuracy: {:.4}%\".format(xgb_val_accuracy * 100))"
   ]
  },
  {
   "cell_type": "code",
   "execution_count": 86,
   "id": "28dd2bb0",
   "metadata": {},
   "outputs": [
    {
     "name": "stdout",
     "output_type": "stream",
     "text": [
      "              precision    recall  f1-score   support\n",
      "\n",
      "           0       0.64      0.58      0.61       340\n",
      "           1       0.79      0.83      0.81       651\n",
      "\n",
      "    accuracy                           0.75       991\n",
      "   macro avg       0.72      0.71      0.71       991\n",
      "weighted avg       0.74      0.75      0.74       991\n",
      "\n"
     ]
    }
   ],
   "source": [
    "# XGB classification report\n",
    "print(classification_report(y_test_w, xgb_val_preds))"
   ]
  },
  {
   "cell_type": "markdown",
   "id": "18fa587f",
   "metadata": {},
   "source": [
    "## KNN Model- White Wine"
   ]
  },
  {
   "cell_type": "code",
   "execution_count": 87,
   "id": "3c922119",
   "metadata": {},
   "outputs": [
    {
     "name": "stdout",
     "output_type": "stream",
     "text": [
      "KNN Training Accuracy: 82.59%\n",
      "KNN Validation accuracy: 74.27%\n"
     ]
    }
   ],
   "source": [
    "knn_clf = KNeighborsClassifier()\n",
    "knn_clf.fit(X_train_w, y_train_w)\n",
    "\n",
    "knn_training_preds = knn_clf.predict(X_train_w)\n",
    "knn_training_accuracy = accuracy_score(y_train_w, knn_training_preds)\n",
    "\n",
    "knn_val_preds = knn_clf.predict(X_test_w)\n",
    "knn_val_accuracy = accuracy_score(y_test_w, knn_val_preds)\n",
    "\n",
    "print(\"KNN Training Accuracy: {:.4}%\".format(knn_training_accuracy * 100))\n",
    "print(\"KNN Validation accuracy: {:.4}%\".format(knn_val_accuracy * 100))"
   ]
  },
  {
   "cell_type": "code",
   "execution_count": 88,
   "id": "0f6fae83",
   "metadata": {},
   "outputs": [
    {
     "name": "stdout",
     "output_type": "stream",
     "text": [
      "              precision    recall  f1-score   support\n",
      "\n",
      "           0       0.64      0.57      0.60       340\n",
      "           1       0.79      0.83      0.81       651\n",
      "\n",
      "    accuracy                           0.74       991\n",
      "   macro avg       0.71      0.70      0.71       991\n",
      "weighted avg       0.74      0.74      0.74       991\n",
      "\n"
     ]
    }
   ],
   "source": [
    "# KNN classification report\n",
    "print(classification_report(y_test_w, knn_val_preds))"
   ]
  },
  {
   "cell_type": "code",
   "execution_count": 89,
   "id": "08278d06",
   "metadata": {},
   "outputs": [
    {
     "name": "stdout",
     "output_type": "stream",
     "text": [
      "Confusion Matrix:\n",
      " [[194 146]\n",
      " [109 542]]\n"
     ]
    }
   ],
   "source": [
    "# Regular confusion matrix\n",
    "knn_matrix = confusion_matrix(y_test_w, knn_val_preds)\n",
    "print('Confusion Matrix:\\n', knn_matrix)"
   ]
  },
  {
   "cell_type": "code",
   "execution_count": null,
   "id": "df9245d3",
   "metadata": {},
   "outputs": [],
   "source": []
  },
  {
   "cell_type": "code",
   "execution_count": null,
   "id": "aa622b67",
   "metadata": {},
   "outputs": [],
   "source": []
  },
  {
   "cell_type": "code",
   "execution_count": null,
   "id": "580b52b3",
   "metadata": {},
   "outputs": [],
   "source": []
  }
 ],
 "metadata": {
  "kernelspec": {
   "display_name": "Python [conda env:pyvizenv] *",
   "language": "python",
   "name": "conda-env-pyvizenv-py"
  },
  "language_info": {
   "codemirror_mode": {
    "name": "ipython",
    "version": 3
   },
   "file_extension": ".py",
   "mimetype": "text/x-python",
   "name": "python",
   "nbconvert_exporter": "python",
   "pygments_lexer": "ipython3",
   "version": "3.7.11"
  }
 },
 "nbformat": 4,
 "nbformat_minor": 5
}
